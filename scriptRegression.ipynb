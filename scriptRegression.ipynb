{
 "cells": [
  {
   "cell_type": "markdown",
   "id": "496667b9",
   "metadata": {},
   "source": [
    "##### Auteur  : Mamoudou KOUME\n",
    "#### Data scientist student"
   ]
  },
  {
   "cell_type": "markdown",
   "id": "b9a2035c",
   "metadata": {},
   "source": [
    "### L'objectif de ce mini-projet est d'appliquer la régression de faible rang dans le cas de données simulées dans un premier temps. Par la suite, il s'agira de faire de l'apprentissage multi-tâches (multivariée ici) accompagné de régularisation"
   ]
  },
  {
   "cell_type": "markdown",
   "id": "a9ec6ffa",
   "metadata": {},
   "source": [
    "##### Mots-clés : régression de faible rang, régression multivariée, régularisation (ridge, lasso, multitasklasso)"
   ]
  },
  {
   "cell_type": "markdown",
   "id": "e66cc9a0",
   "metadata": {},
   "source": [
    "## I- Régresion de rang faible sur des données simulées"
   ]
  },
  {
   "cell_type": "markdown",
   "id": "711a250c",
   "metadata": {},
   "source": [
    "On cherche ici à faire la régression multivariée de rang faible; c'est à dire $f(x) = w^Tx$, avec $x_i \\in \\mathbb{R^d}$, $y_i \\in \\mathbb{R^p}$ et $W \\in \\mathbb{R^d_p}$. Le $\\hat{W}$ qu'on cherche est solution du problème de minimisation suivant : $\\hat{W} = \\frac{1}{n} \\vert \\vert Y - XW\\vert \\vert^2$ sous contraintes que le rang de $W$ soit inférieur à certain rang $r$ i.e $W$ est une une matrice de rang faible."
   ]
  },
  {
   "cell_type": "markdown",
   "id": "b45afe57",
   "metadata": {},
   "source": [
    "On peut dès générer des données de sorte à voir une matrice de taille $d \\times p$ de rang r. Prenons par exemple $d = 15$, $p = 16$ et $r = 2$."
   ]
  },
  {
   "cell_type": "code",
   "execution_count": 3,
   "id": "270d16a7",
   "metadata": {},
   "outputs": [
    {
     "name": "stdout",
     "output_type": "stream",
     "text": [
      "(15, 16)\n",
      "2\n"
     ]
    },
    {
     "data": {
      "text/plain": [
       "<matplotlib.image.AxesImage at 0x262ec2212e0>"
      ]
     },
     "execution_count": 3,
     "metadata": {},
     "output_type": "execute_result"
    },
    {
     "data": {
      "image/png": "[encoded data removed]",
      "text/plain": [
       "<Figure size 432x288 with 1 Axes>"
      ]
     },
     "metadata": {
      "needs_background": "light"
     },
     "output_type": "display_data"
    }
   ],
   "source": [
    "# Chargement des librairies nécessaires\n",
    "%matplotlib inline\n",
    "import numpy as np\n",
    "import matplotlib.pyplot as plt\n",
    "from sklearn.model_selection import train_test_split\n",
    "from sklearn.metrics import mean_absolute_error\n",
    "from sklearn.metrics import mean_squared_error\n",
    "\n",
    "# On va construire w à l'aide de deux matrices A et B telque w = AB\n",
    "\n",
    "# On crée la matrice A de dimension 4x5\n",
    "A = np.random.rand(30).reshape(15, 2)\n",
    "\n",
    "# On crée deux matrices B1 et B2 de dimension 5x2\n",
    "B1 = np.random.rand(30).reshape(2, 15)\n",
    "B2 = np.full((2, 1), 0)\n",
    "\n",
    "# On obtient la matrice B par concaténation des matrices B1 et B2 sur le premier axe\n",
    "# de sorte à avoir\n",
    "B = np.concatenate([B1, B2], axis=1)\n",
    "\n",
    "# La matrice w obtenu en faisant le produit des matrices A et B sera de rang inférieur ou égal à 2\n",
    "w = A.dot(B)\n",
    "print(w.shape)\n",
    "\n",
    "# On vérifie que w est de rang 2\n",
    "print(np.linalg.matrix_rank(w))\n",
    "\n",
    "#  Affichage de la matrice w avec la commande imshow\n",
    "plt.imshow(w)"
   ]
  },
  {
   "cell_type": "markdown",
   "id": "c6fc043e",
   "metadata": {},
   "source": [
    "Maintenant qu'on vient de créer la matrice $W$ de faible rang, on peut dès à présent des données d'apprentissage $\\{(x_i,y_i), i=1,\\ldots,n\\}$ suivant le modèle $y_i = Wx_i + \\epsilon_i$.\n"
   ]
  },
  {
   "cell_type": "code",
   "execution_count": 5,
   "id": "6f922a4f",
   "metadata": {},
   "outputs": [
    {
     "name": "stdout",
     "output_type": "stream",
     "text": [
      "(100, 16)\n"
     ]
    }
   ],
   "source": [
    "# On génère X de dimension nx15 et epsilon de dimension nx16\n",
    "\n",
    "n_examples = 100 # nombre d'exemples d'apprentissage\n",
    "sigma = 0.3  # écart-type du bruit\n",
    "x = np.random.rand(15 * n_examples).reshape(n_examples, 15) * 10\n",
    "eps = np.random.randn(16 * n_examples).reshape(n_examples, 16) \n",
    "y = x.dot(w) + eps * sigma\n",
    "print(y.shape)"
   ]
  },
  {
   "cell_type": "markdown",
   "id": "b06b0bab",
   "metadata": {},
   "source": [
    "Nous allons par la suite implémenter la méthode de régression de faible rang. Cette dernière prend pour paramètres $X$, $Y$ et $r$. Vous pouvez voir qu'on a fixé ici $r$ à 2 pour faire simple mais on pouvait générer une matrice $W$ de rang quelconque et appliquer la régression de rang faible. Le choix du rang sera à notre portée dans ce cas."
   ]
  },
  {
   "cell_type": "code",
   "execution_count": 6,
   "id": "63de735b",
   "metadata": {},
   "outputs": [
    {
     "name": "stdout",
     "output_type": "stream",
     "text": [
      "True\n",
      "(15, 16)\n",
      "(16, 16)\n",
      "(15, 16)\n"
     ]
    }
   ],
   "source": [
    "# Partition en données d'apprentissage et données test\n",
    "X_train, X_test, y_train, y_test = train_test_split(x, y, test_size=0.2)\n",
    "\n",
    "# Définition de la fonction de régression de rang faible\n",
    "def regressionrangfaible(X, Y, rang):\n",
    "\n",
    "        XTX = np.dot(X.T, X) \n",
    "        XTY = np.dot(X.T, Y) \n",
    "        W_etoile = np.dot(np.linalg.pinv(XTX), XTY)             # Calcul de la solution OLS\n",
    "        Y_etoile = np.dot(X, W_etoile)                          # Prédictions de Y OLS\n",
    "        U, D, VT = np.linalg.svd(Y_etoile, full_matrices=False) # Calcul de la SVD de Y_etoile\n",
    "        Y_etoile_remake = (U @ np.diag(D) @ VT)                 # reconstruction de y en utlisant U,D,VT\n",
    "        P = np.dot(VT[0:rang, :].T, VT[0:rang, :])              # Calcul de la matrice de projection Pr\n",
    "        W_chap_etoile = np.dot(W_etoile, P)                     # Calcul de la solution de faible rang\n",
    "        return W_etoile, P, W_chap_etoile                       # Solution LS, rang faible et matrice de Projection\n",
    "\n",
    "# full_matrices = False si Y_etoile n'est pas carrée mais rectangulaire\n",
    "# full_matrices = True si Y_etoile est carrée\n",
    "\n",
    "# W_etoile est la solution LS.\n",
    "# W_chap_etoile est la solution de la regression de faible rang.\n",
    "# Pr est la matrice de projection\n",
    "\n",
    "# On applique maintenant la fonction aux données d'apprentissage avec un rang égal à 2 (puisqu'on a w qui est de rang \n",
    "# inférieur ou égal à 2)\n",
    "\n",
    "W_LS, Pr, Wr = regressionrangfaible(X_train, y_train, 2) \n",
    "\n",
    "# On vérifie bien que Pr est une matrice de projection\n",
    "Pcarre = np.dot(Pr, Pr)\n",
    "print(np.allclose(Pcarre, Pr)) #renvoie true si c'est le cas et false dans le cas contraire\n",
    "\n",
    "# On vérifie que les dimensions sont bien correctes\n",
    "print(W_LS.shape)\n",
    "print(Pr.shape)\n",
    "print(Wr.shape)"
   ]
  },
  {
   "cell_type": "markdown",
   "id": "b6b8c06f",
   "metadata": {},
   "source": [
    "Evaluons les performances de prédiction de la régression de faible rang sur un jeu de données test et comparons les résultats avec la régression par moindres carrés (LS)."
   ]
  },
  {
   "cell_type": "code",
   "execution_count": 8,
   "id": "3528ac7d",
   "metadata": {},
   "outputs": [],
   "source": [
    "# Définition de la fonction qui prédit Y à partir de X avec la régression de rang faible\n",
    "\n",
    "def prediction(X):\n",
    "        \"\"\"\n",
    "        Predire Y à partir de X.\n",
    "        \"\"\"\n",
    "        return np.dot(X, np.dot(Wr, Pr))  "
   ]
  },
  {
   "cell_type": "code",
   "execution_count": 10,
   "id": "edd7d75b",
   "metadata": {},
   "outputs": [
    {
     "name": "stdout",
     "output_type": "stream",
     "text": [
      "Mean Squared Error de la régression LS :  0.10094387549022117\n",
      "Mean Squared Error de la régression de faible rang :  0.0896077223250143\n",
      "Mean Absolute Error de la régression LS :  0.2575453642231722\n",
      "Mean Absolute Error de la régression de faible rang :  0.24029385774897152\n"
     ]
    }
   ],
   "source": [
    "# Prédiction avec W_LS et Wr\n",
    "\n",
    "yr = prediction(X_test) # prédiction avec la méthode de la régression de rang faible\n",
    "y_LS = X_test @ W_LS    # prédiction avec la méthode des moindres carrés (LS)\n",
    "\n",
    "# Pour comparer les résutats des modèles, on peut comaparer leurs MSE et MAE\n",
    "\n",
    "MSE_LS = mean_squared_error(y_test, y_LS)\n",
    "MSE_r = mean_squared_error(y_test, yr)\n",
    "MAE_LS = mean_absolute_error(y_test, y_LS)\n",
    "MAE_r = mean_absolute_error(y_test, yr)\n",
    "\n",
    "# Affichage des MSE et MAE\n",
    "\n",
    "print('Mean Squared Error de la régression LS : ', MSE_LS)\n",
    "print('Mean Squared Error de la régression de faible rang : ', MSE_r)\n",
    "print('Mean Absolute Error de la régression LS : ', MAE_LS)\n",
    "print('Mean Absolute Error de la régression de faible rang : ', MAE_r)\n",
    "\n",
    "# Conclusion : Les MSE et MAE obtenus avec la régression de rang faible sont plus petits que ceux obtenus avec la\n",
    "# méthode LS. Ce qui laisse dire que la méthode de rang faible est plus performante que celle des moindres carrés."
   ]
  },
  {
   "cell_type": "markdown",
   "id": "b20a2587",
   "metadata": {},
   "source": [
    "## II- Apprenissage multivariée et régularisation"
   ]
  },
  {
   "cell_type": "code",
   "execution_count": null,
   "id": "3b752974",
   "metadata": {},
   "outputs": [],
   "source": []
  },
  {
   "cell_type": "code",
   "execution_count": null,
   "id": "1c82f7d0",
   "metadata": {},
   "outputs": [],
   "source": []
  },
  {
   "cell_type": "code",
   "execution_count": null,
   "id": "7b7453e5",
   "metadata": {},
   "outputs": [],
   "source": []
  },
  {
   "cell_type": "code",
   "execution_count": null,
   "id": "0a99650c",
   "metadata": {},
   "outputs": [],
   "source": []
  }
 ],
 "metadata": {
  "kernelspec": {
   "display_name": "Python 3",
   "language": "python",
   "name": "python3"
  },
  "language_info": {
   "codemirror_mode": {
    "name": "ipython",
    "version": 3
   },
   "file_extension": ".py",
   "mimetype": "text/x-python",
   "name": "python",
   "nbconvert_exporter": "python",
   "pygments_lexer": "ipython3",
   "version": "3.8.8"
  }
 },
 "nbformat": 4,
 "nbformat_minor": 5
}
