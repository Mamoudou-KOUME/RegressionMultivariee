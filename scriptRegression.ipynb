{
 "cells": [
  {
   "cell_type": "markdown",
   "id": "496667b9",
   "metadata": {},
   "source": [
    "##### Auteur  : Mamoudou KOUME\n",
    "#### Data scientist student"
   ]
  },
  {
   "cell_type": "markdown",
   "id": "b9a2035c",
   "metadata": {},
   "source": [
    "### L'objectif de ce mini-projet est d'appliquer la régression de faible rang dans le cas de données simulées dans un premier temps. Par la suite, il s'agira de faire de l'apprentissage multi-tâches (multivariée ici) accompagné de régularisation"
   ]
  },
  {
   "cell_type": "markdown",
   "id": "a9ec6ffa",
   "metadata": {},
   "source": [
    "##### Mots-clés : régression de faible rang, régression multivariée, régularisation (ridge, lasso, multitasklasso)"
   ]
  },
  {
   "cell_type": "markdown",
   "id": "e66cc9a0",
   "metadata": {},
   "source": [
    "## I- Régresion de rang faible"
   ]
  },
  {
   "cell_type": "code",
   "execution_count": 4,
   "id": "270d16a7",
   "metadata": {},
   "outputs": [
    {
     "data": {
      "text/plain": [
       "<matplotlib.image.AxesImage at 0x1a91ae19070>"
      ]
     },
     "execution_count": 4,
     "metadata": {},
     "output_type": "execute_result"
    },
    {
     "data": {
      "image/png": "[encoded data removed]",
      "text/plain": [
       "<Figure size 432x288 with 1 Axes>"
      ]
     },
     "metadata": {
      "needs_background": "light"
     },
     "output_type": "display_data"
    }
   ],
   "source": [
    "# Partie 1 : Régression de faible rang sur des données simulées\n",
    "\n",
    "# Chargement des librairies nécessaires\n",
    "%matplotlib inline\n",
    "import numpy as np\n",
    "import matplotlib.pyplot as plt\n",
    "\n",
    "# On va construire w à l'aide de deux matrices A et B telque w = AB\n",
    "\n",
    "# On crée la matrice A de dimension 4x5\n",
    "A = np.random.rand(30).reshape(15, 2)\n",
    "#print(A)\n",
    "\n",
    "# On crée deux matrices B1 et B2 de dimension 5x2\n",
    "B1 = np.random.rand(30).reshape(2, 15)\n",
    "#print(B1)\n",
    "B2 = np.full((2, 1), 0)\n",
    "#print(B2)\n",
    "\n",
    "# On obtient la matrice B par concaténation des matrices B1 et B2 sur le premier axe\n",
    "# de sorte à avoir\n",
    "B = np.concatenate([B1, B2], axis=1)\n",
    "#print(B)\n",
    "\n",
    "# La matrice w est obtenu en faisant le produit des matrices A et B\n",
    "w = A.dot(B)\n",
    "print(w.shape)\n",
    "\n",
    "# On vérifie que W est de rang 2\n",
    "print(np.linalg.matrix_rank(w))\n",
    "\n",
    "#  Affichage de la matrice W avec la commande imshow\n",
    "plt.imshow(w)"
   ]
  },
  {
   "cell_type": "code",
   "execution_count": null,
   "id": "4a2347b2",
   "metadata": {},
   "outputs": [],
   "source": [
    "# A compléter\n",
    "\n",
    "# On génère X de dimension nx15 et epsilon de dimension nx16\n",
    "\n",
    "n_examples = 100 # nombre d'exemples d'apprentissage\n",
    "sigma = 0.3  # écart-type du bruit\n",
    "x = np.random.rand(15 * n_examples).reshape(n_examples, 15) * 10\n",
    "eps = np.random.randn(16 * n_examples).reshape(n_examples, 16) \n",
    "\n",
    "y = x.dot(w) + eps * sigma\n",
    "#print(y)\n",
    "#print(y.shape)"
   ]
  },
  {
   "cell_type": "markdown",
   "id": "b20a2587",
   "metadata": {},
   "source": [
    "## II- Apprenissage multivariée et régularisation"
   ]
  },
  {
   "cell_type": "code",
   "execution_count": null,
   "id": "1c82f7d0",
   "metadata": {},
   "outputs": [],
   "source": []
  },
  {
   "cell_type": "code",
   "execution_count": null,
   "id": "7b7453e5",
   "metadata": {},
   "outputs": [],
   "source": []
  },
  {
   "cell_type": "code",
   "execution_count": null,
   "id": "0a99650c",
   "metadata": {},
   "outputs": [],
   "source": []
  }
 ],
 "metadata": {
  "kernelspec": {
   "display_name": "Python 3",
   "language": "python",
   "name": "python3"
  },
  "language_info": {
   "codemirror_mode": {
    "name": "ipython",
    "version": 3
   },
   "file_extension": ".py",
   "mimetype": "text/x-python",
   "name": "python",
   "nbconvert_exporter": "python",
   "pygments_lexer": "ipython3",
   "version": "3.8.8"
  }
 },
 "nbformat": 4,
 "nbformat_minor": 5
}
