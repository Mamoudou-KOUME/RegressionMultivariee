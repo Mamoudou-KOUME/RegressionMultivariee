{
 "cells": [
  {
   "cell_type": "markdown",
   "id": "496667b9",
   "metadata": {},
   "source": [
    "##### Auteur  : Mamoudou KOUME\n",
    "#### Data scientist student"
   ]
  },
  {
   "cell_type": "markdown",
   "id": "b9a2035c",
   "metadata": {},
   "source": [
    "### L'objectif de ce mini-projet est d'appliquer la régression de faible rang dans le cas de données simulées dans un premier temps. Par la suite, il s'agira de faire de l'apprentissage multi-tâches (multivariée ici) accompagné de régularisation"
   ]
  },
  {
   "cell_type": "markdown",
   "id": "a9ec6ffa",
   "metadata": {},
   "source": [
    "##### Mots-clés : régression de faible rang, régression multivariée, régularisation (ridge, lasso, multitasklasso)"
   ]
  },
  {
   "cell_type": "markdown",
   "id": "e66cc9a0",
   "metadata": {},
   "source": [
    "## I- Régresion de rang faible sur des données simulées"
   ]
  },
  {
   "cell_type": "markdown",
   "id": "a45ff8e4",
   "metadata": {},
   "source": [
    "On cherche ici à faire la régression multivariée de rang faible; c'est à dire $f(x) = w^Tx$, avec $x_i \\in \\mathbb{R^d}$, $y_i \\in \\mathbb{R^p}$ et $W \\in \\mathbb{R^d_p}$. Le $\\hat{W}$ qu'on cherche est solution du problème de minimisation suivant : $\\hat{W} = \\frac{1}{n} \\vert \\vert Y - XW\\vert \\vert^2$ sous contraintes que le rang de $W$ soit inférieur à certain rang $r$ i.e $W$ est une une matrice de rang faible."
   ]
  },
  {
   "cell_type": "markdown",
   "id": "90b55ad3",
   "metadata": {},
   "source": [
    "On peut dès générer des données de sorte à voir une matrice de taille $d \\times p$ de rang r. Prenons par exemple $d = 15$, $p = 16$ et $r = 2$."
   ]
  },
  {
   "cell_type": "code",
   "execution_count": 24,
   "id": "270d16a7",
   "metadata": {},
   "outputs": [
    {
     "name": "stdout",
     "output_type": "stream",
     "text": [
      "(15, 16)\n",
      "2\n"
     ]
    },
    {
     "data": {
      "text/plain": [
       "<matplotlib.image.AxesImage at 0x262ec9bb8e0>"
      ]
     },
     "execution_count": 24,
     "metadata": {},
     "output_type": "execute_result"
    },
    {
     "data": {
      "image/png": "[encoded data removed]",
      "text/plain": [
       "<Figure size 432x288 with 1 Axes>"
      ]
     },
     "metadata": {
      "needs_background": "light"
     },
     "output_type": "display_data"
    }
   ],
   "source": [
    "# Chargement des librairies nécessaires\n",
    "%matplotlib inline\n",
    "import numpy as np\n",
    "import matplotlib.pyplot as plt\n",
    "from sklearn.model_selection import train_test_split\n",
    "from sklearn.metrics import mean_absolute_error\n",
    "from sklearn.metrics import mean_squared_error\n",
    "from sklearn.metrics import r2_score\n",
    "\n",
    "# On va construire w à l'aide de deux matrices A et B telque w = AB\n",
    "\n",
    "# On crée la matrice A de dimension 4x5\n",
    "# random.seed(0) # si on veut reproduire la même chose à chaque fois que le fichier est compilé \n",
    "A = np.random.rand(30).reshape(15, 2)\n",
    "\n",
    "# On crée deux matrices B1 et B2 de dimension 5x2\n",
    "B1 = np.random.rand(30).reshape(2, 15)\n",
    "B2 = np.full((2, 1), 0)\n",
    "\n",
    "# On obtient la matrice B par concaténation des matrices B1 et B2 sur le premier axe\n",
    "# de sorte à avoir\n",
    "B = np.concatenate([B1, B2], axis=1)\n",
    "\n",
    "# La matrice W obtenu en faisant le produit des matrices A et B sera de rang inférieur ou égal à 2\n",
    "W = A.dot(B)\n",
    "print(w.shape)\n",
    "\n",
    "# On vérifie que W est de rang 2\n",
    "print(np.linalg.matrix_rank(W))\n",
    "\n",
    "#  Affichage de la matrice w avec la commande imshow\n",
    "plt.imshow(w)"
   ]
  },
  {
   "cell_type": "markdown",
   "id": "0581738c",
   "metadata": {},
   "source": [
    "Maintenant qu'on vient de créer la matrice $W$ de faible rang, on peut dès à présent des données d'apprentissage $\\{(x_i,y_i), i=1,\\ldots,n\\}$ suivant le modèle $y_i = Wx_i + \\epsilon_i$.\n"
   ]
  },
  {
   "cell_type": "code",
   "execution_count": 25,
   "id": "cac90267",
   "metadata": {},
   "outputs": [
    {
     "name": "stdout",
     "output_type": "stream",
     "text": [
      "(100, 16)\n"
     ]
    }
   ],
   "source": [
    "# On génère X de dimension nx15 et epsilon de dimension nx16\n",
    "\n",
    "n_examples = 100 # nombre d'exemples d'apprentissage\n",
    "sigma = 0.3  # écart-type du bruit\n",
    "x = np.random.rand(15 * n_examples).reshape(n_examples, 15) * 10\n",
    "eps = np.random.randn(16 * n_examples).reshape(n_examples, 16) \n",
    "y = x.dot(W) + eps * sigma\n",
    "print(y.shape)"
   ]
  },
  {
   "cell_type": "markdown",
   "id": "ff928045",
   "metadata": {},
   "source": [
    "Nous allons par la suite implémenter la méthode de régression de faible rang. Cette dernière prend pour paramètres $X$, $Y$ et $r$. Vous pouvez voir qu'on a fixé ici $r$ à 2 pour faire simple mais on pouvait générer une matrice $W$ de rang quelconque et appliquer la régression de rang faible. Le choix du rang sera à notre portée dans ce cas."
   ]
  },
  {
   "cell_type": "code",
   "execution_count": 34,
   "id": "f5cfe2eb",
   "metadata": {},
   "outputs": [
    {
     "name": "stdout",
     "output_type": "stream",
     "text": [
      "True\n",
      "(15, 16)\n",
      "(16, 16)\n",
      "(15, 16)\n",
      "15\n"
     ]
    }
   ],
   "source": [
    "# Partition en données d'apprentissage et données test\n",
    "X_train, X_test, y_train, y_test = train_test_split(x, y, test_size=0.2)\n",
    "\n",
    "# Définition de la fonction de régression de rang faible\n",
    "def regressionrangfaible(X, Y, rang):\n",
    "\n",
    "        XTX = np.dot(X.T, X) \n",
    "        XTY = np.dot(X.T, Y) \n",
    "        W_etoile = np.dot(np.linalg.pinv(XTX), XTY)             # Calcul de la solution OLS\n",
    "        Y_etoile = np.dot(X, W_etoile)                          # Prédictions de Y OLS\n",
    "        U, D, VT = np.linalg.svd(Y_etoile, full_matrices=False) # Calcul de la SVD de Y_etoile\n",
    "        Y_etoile_remake = (U @ np.diag(D) @ VT)                 # reconstruction de y en utlisant U,D,VT\n",
    "        P = np.dot(VT[0:rang, :].T, VT[0:rang, :])              # Calcul de la matrice de projection Pr\n",
    "        W_chap_etoile = np.dot(W_etoile, P)                     # Calcul de la solution de faible rang\n",
    "        return W_etoile, P, W_chap_etoile                       # Solution LS, rang faible et matrice de Projection\n",
    "\n",
    "# full_matrices = False si Y_etoile n'est pas carrée mais rectangulaire\n",
    "# full_matrices = True si Y_etoile est carrée\n",
    "\n",
    "# W_etoile est la solution LS.\n",
    "# W_chap_etoile est la solution de la regression de faible rang.\n",
    "# Pr est la matrice de projection\n",
    "\n",
    "# On applique maintenant la fonction aux données d'apprentissage avec un rang égal à 2 (puisqu'on a w qui est de rang \n",
    "# inférieur ou égal à 2)\n",
    "\n",
    "W_LS, Pr, Wr = regressionrangfaible(X_train, y_train, 2) \n",
    "\n",
    "# On vérifie bien que Pr est une matrice de projection\n",
    "Pcarre = np.dot(Pr, Pr)\n",
    "print(np.allclose(Pcarre, Pr)) #renvoie true si c'est le cas et false dans le cas contraire\n",
    "\n",
    "# On vérifie que les dimensions sont bien correctes\n",
    "print(W_LS.shape)\n",
    "print(Pr.shape)\n",
    "print(Wr.shape)"
   ]
  },
  {
   "cell_type": "markdown",
   "id": "b98486dc",
   "metadata": {},
   "source": [
    "Evaluons les performances de prédiction de la régression de faible rang sur un jeu de données test et comparons les résultats avec la régression par moindres carrés (LS)."
   ]
  },
  {
   "cell_type": "code",
   "execution_count": 27,
   "id": "3a5bf6d3",
   "metadata": {},
   "outputs": [],
   "source": [
    "# Définition de la fonction qui prédit Y à partir de X avec la régression de rang faible\n",
    "\n",
    "def prediction(X):\n",
    "        \"\"\"\n",
    "        Predire Y à partir de X.\n",
    "        \"\"\"\n",
    "        return np.dot(X, np.dot(Wr, Pr))  "
   ]
  },
  {
   "cell_type": "code",
   "execution_count": 28,
   "id": "7dd770d8",
   "metadata": {},
   "outputs": [
    {
     "name": "stdout",
     "output_type": "stream",
     "text": [
      "Mean Squared Error de la régression LS :  0.11798293890019976\n",
      "Mean Squared Error de la régression de faible rang :  0.1051699535626385\n",
      "Mean Absolute Error de la régression LS :  0.26987301836162325\n",
      "Mean Absolute Error de la régression de faible rang :  0.2546319329448135\n",
      "R^2 de la régression LS :  0.9104662639828344\n",
      "R^2 de la régression de faible rang :  0.9227662513832747\n"
     ]
    }
   ],
   "source": [
    "# Prédiction avec W_LS et Wr\n",
    "yr = prediction(X_test) # prédiction avec la méthode de la régression de rang faible\n",
    "y_LS = X_test @ W_LS    # prédiction avec la méthode des moindres carrés (LS)\n",
    "\n",
    "# Pour comparer les résutats des modèles, on peut comaparer leurs MSE et MAE\n",
    "MSE_LS = mean_squared_error(y_test, y_LS)\n",
    "MSE_r = mean_squared_error(y_test, yr)\n",
    "MAE_LS = mean_absolute_error(y_test, y_LS)\n",
    "MAE_r = mean_absolute_error(y_test, yr)\n",
    "\n",
    "# Calcul des coefficients de détermination R^2\n",
    "R2_LS = r2_score(y_test, y_LS)\n",
    "R2_r = r2_score(y_test, yr)\n",
    "\n",
    "# Affichage des MSE, MAE et R^2\n",
    "print('Mean Squared Error de la régression LS : ', MSE_LS)\n",
    "print('Mean Squared Error de la régression de faible rang : ', MSE_r)\n",
    "print('Mean Absolute Error de la régression LS : ', MAE_LS)\n",
    "print('Mean Absolute Error de la régression de faible rang : ', MAE_r)\n",
    "print('R^2 de la régression LS : ', R2_LS)\n",
    "print('R^2 de la régression de faible rang : ', R2_r)\n",
    "\n",
    "# Conclusion : Les MSE et MAE obtenus avec la régression de rang faible sont plus petits que ceux obtenus avec la\n",
    "# méthode LS. Aussi du point de vue du coefficient de détermination, la régression de rang faible l'emporte.\n",
    "# Ce qui laisse dire que la méthode de rang faible est plus performante que celle des moindres carrés."
   ]
  },
  {
   "cell_type": "markdown",
   "id": "cd2aa1c3",
   "metadata": {},
   "source": [
    "Affichons les matrices de paramètres $W_r$ et $W_{LS}$ obtenues par les deux méthodes. Ensuite, nous comparons les résultats en mesurant l'erreur entre la vraie matrice W utilisée pour générer les données et les matrices $W_r$ et $W_{LS}$ obtenues dans les deux stratégies d'estimation."
   ]
  },
  {
   "cell_type": "code",
   "execution_count": 31,
   "id": "17d2366b",
   "metadata": {},
   "outputs": [
    {
     "name": "stdout",
     "output_type": "stream",
     "text": [
      "(15, 16)\n",
      "(15, 16)\n",
      "(15, 16)\n",
      "Mean Squared Error avec la vraie matrice W :  0.10052074056406682\n",
      "Mean Squared Error de la régression LS :  0.11798293890019976\n",
      "Mean Squared Error de la régression de faible rang :  0.1051699535626385\n",
      "Mean Absolute Error avec la vraie matrice W :  0.2502112511734099\n",
      "Mean Absolute Error de la régression LS :  0.26987301836162325\n",
      "Mean Absolute Error Dde la régression de faible rang :  0.2546319329448135\n",
      "R^2 avec la vraie matrice w :  0.9273648598121566\n",
      "R^2 de la régression LS :  0.9104662639828344\n",
      "R^2 de la régression de faible rang :  0.9227662513832747\n"
     ]
    }
   ],
   "source": [
    "# Affichage de Wr, W_LS et W\n",
    "\n",
    "print(W_LS.shape) \n",
    "print(Wr.shape)\n",
    "print(W.shape)\n",
    "\n",
    "# Prédiction de y en utilisant la vraie matrice W\n",
    "\n",
    "y_w = X_test @ W # matrice w utilisée pour générer les données\n",
    "\n",
    "# Pour comparer les résutats des modèles, on peut comaparer leurs MSE et MAE\n",
    "\n",
    "MSE_w = mean_squared_error(y_test, y_w)\n",
    "MAE_w = mean_absolute_error(y_test, y_w)\n",
    "\n",
    "# Calcul des coefficients de détermination R^2\n",
    "R2_w = r2_score(y_test, y_w)\n",
    "\n",
    "# Affichage des MSE, MAE et R^2\n",
    "\n",
    "print('Mean Squared Error avec la vraie matrice W : ', MSE_w)\n",
    "print('Mean Squared Error de la régression LS : ', MSE_LS)\n",
    "print('Mean Squared Error de la régression de faible rang : ', MSE_r)\n",
    "print('Mean Absolute Error avec la vraie matrice W : ', MAE_w)\n",
    "print('Mean Absolute Error de la régression LS : ', MAE_LS)\n",
    "print('Mean Absolute Error de la régression de faible rang : ', MAE_r)\n",
    "print('R^2 avec la vraie matrice w : ', R2_w)\n",
    "print('R^2 de la régression LS : ', R2_LS)\n",
    "print('R^2 de la régression de faible rang : ', R2_r)\n",
    "\n",
    "# Conclusion : Les MSE et MAE obtenus avec la vraie matrice W sont plus petits que les MSE et MAE obtenus avec la régression \n",
    "# LS. Du côté de R^2, on remarque qu'il est plus élevé avec si on utilise la vraie matrice W que si fait la régression de rang\n",
    "# faible."
   ]
  },
  {
   "cell_type": "markdown",
   "id": "75576488",
   "metadata": {},
   "source": [
    "Evaluons maintenant l'impact du choix du rang sur les résultats en faisant varier le rang de $W_r$ et en traçant l'erreur de test en fonction du rang de $W_r$ (le rang r de $W$ ne change pas)."
   ]
  },
  {
   "cell_type": "code",
   "execution_count": 35,
   "id": "134b6740",
   "metadata": {},
   "outputs": [
    {
     "name": "stdout",
     "output_type": "stream",
     "text": [
      "Le rang qui donne la plus petite erreur test est : 2\n",
      "L'erreur minimale correspondante est :  0.09552846325965839\n"
     ]
    },
    {
     "data": {
      "image/png": "[encoded data removed]",
      "text/plain": [
       "<Figure size 432x288 with 1 Axes>"
      ]
     },
     "metadata": {
      "needs_background": "light"
     },
     "output_type": "display_data"
    }
   ],
   "source": [
    "# Fixons une plage de valeurs pour le rang et initialisons le vecteur des erreurs (MSE)\n",
    "rang = np.arange(1, 16)\n",
    "test_errors = []\n",
    "\n",
    "# Pour chaque rang pris, nous calculons le mse correspondant\n",
    "for i in rang:\n",
    "    W_LS, Pr, Wr = regressionrangfaible(X_train, y_train, i)\n",
    "    y_pred = prediction(X_test)\n",
    "    test_error = mean_squared_error(y_test, y_pred)\n",
    "    test_errors.append(test_error)\n",
    "    \n",
    "# Plot du MSE en fonction du rang    \n",
    "plt.xlabel('Rang')\n",
    "plt.ylabel('MSE')\n",
    "plt.title('Impact du choix du rang sur les résultats')    \n",
    "plt.plot(rang, test_errors, c='r', label='Erreur de test')\n",
    "plt.legend()\n",
    "\n",
    "print('Le rang qui donne la plus petite erreur test est :', rang[np.argmin(test_errors)] )\n",
    "print('L\\'erreur minimale correspondante est : ', np.min(test_errors))\n",
    "\n",
    "# Interprétations : Malgré que nous ayons fixé le rang de W à 2 dès le départ, rien n'indique que la solution du problème de \n",
    "# minimisation sans contrainte sur le rang sera de rang inférieur à 2 (les données simulées joueront là-dessus). On peut donc \n",
    "# jouer sur le rang pour voir son impact sur les résultats. L'analyse du graphique nous montre que le MSE décroît rapidement\n",
    "# avant le rang 2 puis croît lentement par la suite. "
   ]
  },
  {
   "cell_type": "markdown",
   "id": "b20a2587",
   "metadata": {},
   "source": [
    "## II- Apprenissage multivariée et régularisation"
   ]
  },
  {
   "cell_type": "code",
   "execution_count": null,
   "id": "4354b231",
   "metadata": {},
   "outputs": [],
   "source": []
  },
  {
   "cell_type": "code",
   "execution_count": null,
   "id": "1c82f7d0",
   "metadata": {},
   "outputs": [],
   "source": []
  },
  {
   "cell_type": "code",
   "execution_count": null,
   "id": "7b7453e5",
   "metadata": {},
   "outputs": [],
   "source": []
  },
  {
   "cell_type": "code",
   "execution_count": null,
   "id": "0a99650c",
   "metadata": {},
   "outputs": [],
   "source": []
  }
 ],
 "metadata": {
  "kernelspec": {
   "display_name": "Python 3",
   "language": "python",
   "name": "python3"
  },
  "language_info": {
   "codemirror_mode": {
    "name": "ipython",
    "version": 3
   },
   "file_extension": ".py",
   "mimetype": "text/x-python",
   "name": "python",
   "nbconvert_exporter": "python",
   "pygments_lexer": "ipython3",
   "version": "3.8.8"
  }
 },
 "nbformat": 4,
 "nbformat_minor": 5
}
